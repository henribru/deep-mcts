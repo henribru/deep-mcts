{
 "cells": [
  {
   "cell_type": "code",
   "execution_count": 59,
   "metadata": {
    "collapsed": true,
    "pycharm": {
     "is_executing": false
    }
   },
   "outputs": [],
   "source": [
    "import itertools\n",
    "import matplotlib.pyplot as plt\n",
    "import json\n",
    "import seaborn\n",
    "from pathlib import Path\n",
    "import numpy as np\n",
    "from statistics import mean, median\n",
    "import pandas as pd"
   ]
  },
  {
   "cell_type": "code",
   "execution_count": 60,
   "outputs": [],
   "source": [
    "def split_simulations_with_and_without_expansion(simulations):\n",
    "    with_expansions = []\n",
    "    without_expansions = []\n",
    "    for simulations_per_model in simulations:\n",
    "        for simulations_per_game in simulations_per_model:\n",
    "            for simulations_per_move in simulations_per_game:\n",
    "                with_expansions_for_move, without_expansions_for_move = simulations_per_move\n",
    "                with_expansions.append(with_expansions_for_move)\n",
    "                without_expansions.append(without_expansions_for_move)\n",
    "    return with_expansions, without_expansions\n",
    "            \n",
    "game = \"othello\"\n",
    "with_state_evaluator = False\n",
    "results = []\n",
    "complex_simulations = []\n",
    "simple_simulations = []\n",
    "for result_file in Path(f\"{game}/complex_rollouts/{'with' if with_state_evaluator else 'without'}_state_evaluator/\").iterdir():\n",
    "    with open(result_file) as f:\n",
    "        result = json.load(f)\n",
    "        results.append(result[\"results\"])\n",
    "        complex_simulations.append(result[\"complex_simulations\"])\n",
    "        simple_simulations.append(result[\"simple_simulations\"])\n",
    "results = np.array(results)\n",
    "wins = results[:, 0:2, :].reshape((20, 4))# + 0.5 * results[:, 1, :]\n",
    "wins = pd.DataFrame(wins, columns=[\"first_wins\", \"second_wins\", \"first_draws\", \"second_draws\"])\n",
    "wins = wins[[\"first_wins\", \"first_draws\", \"second_wins\", \"second_draws\"]]\n",
    "wins.insert(0, \"model\", np.arange(20))\n",
    "wins.insert(5, \"overall_wins\", (wins[\"first_wins\"] + wins[\"second_wins\"]) / 2)\n",
    "wins.insert(6, \"overall_draws\", (wins[\"first_draws\"] + wins[\"second_draws\"]) / 2)\n",
    "wins = wins.set_index(\"model\")"
   ],
   "metadata": {
    "collapsed": false,
    "pycharm": {
     "name": "#%%\n",
     "is_executing": false
    }
   }
  },
  {
   "cell_type": "code",
   "execution_count": 61,
   "outputs": [],
   "source": [
    "index = pd.MultiIndex.from_product([[\"first\", \"second\", \"overall\"], [\"win\", \"draw\"], [\"value\", \"sem\"]])\n",
    "wins.insert(1, \"first_wins_sem\", -1)\n",
    "wins.insert(3, \"first_draws_sem\", -1)\n",
    "wins.insert(5, \"second_wins_sem\", -1)\n",
    "wins.insert(7, \"second_draws_sem\", -1)\n",
    "wins.insert(9, \"overall_wins_sem\", -1)\n",
    "wins.insert(11, \"overall_draws_sem\", -1)\n",
    "wins.columns = index\n",
    "for player, type in itertools.product([\"first\", \"second\", \"overall\"], [\"win\", \"draw\"]):\n",
    "    wins[player, type, \"sem\"] = np.sqrt(wins[player, type, \"value\"] * (1 - wins[player, type, \"value\"]) / (240 if player == \"overall\" else 120))\n",
    "totals = []\n",
    "for player, type in itertools.product([\"first\", \"second\", \"overall\"], [\"win\", \"draw\"]):\n",
    "    total = np.mean(wins[player, type, \"value\"])\n",
    "    totals.append(total)\n",
    "    totals.append(np.sqrt(total * (1 - total) / (20 * (240 if player == \"overall\" else 120))))\n",
    "wins.loc[\"Total\", :] = totals\n",
    "wins.index = wins.index.rename(\"Model\")"
   ],
   "metadata": {
    "collapsed": false,
    "pycharm": {
     "name": "#%%\n",
     "is_executing": false
    }
   }
  },
  {
   "cell_type": "code",
   "execution_count": 62,
   "outputs": [
    {
     "data": {
      "text/plain": "win     $0.42 \\pm 0.01$\ndraw    $0.05 \\pm 0.01$\nloss    $0.53 \\pm 0.01$\nName: Total, dtype: object"
     },
     "metadata": {},
     "output_type": "execute_result",
     "execution_count": 62
    }
   ],
   "source": [
    "latex_wins = pd.DataFrame(columns=pd.MultiIndex.from_product([[\"first\", \"second\", \"overall\"], [\"win\", \"draw\"]]))\n",
    "latex_wins.index = latex_wins.index.rename(\"Model\")\n",
    "def f(df):\n",
    "    def inner(player, type):\n",
    "        return f'${df[player, type, \"value\"]:.2f} \\pm {df[player, type, \"sem\"] * 1.96:.2f}$'\n",
    "    return [inner(player, type) for player in [\"first\", \"second\", \"overall\"] for type in [\"win\", \"draw\"]]\n",
    "latex_wins[[(\"first\", \"win\"), (\"first\", \"draw\"), (\"second\", \"win\"), (\"second\", \"draw\"), (\"overall\", \"win\"), (\"overall\", \"draw\")]] = wins.apply(func=f, axis=\"columns\", result_type=\"expand\")\n",
    "# latex_wins = latex_wins.rename(columns={\"first\": \"First player win ratio\", \"second\": \"Second player win ratio\", \"overall\": \"Overall win ratio\", \"value\": \"Value\", \"sem\": \"SEM\"})\n",
    "with open(f\"{game}_complex_rollouts_{'with' if with_state_evaluator else 'without'}_state_evaluator.txt\", \"w\", encoding=\"utf-8\") as f:\n",
    "   latex_wins.to_latex(f, escape=False)\n",
    "total_overall_latex_wins = latex_wins.loc[\"Total\", \"overall\"]\n",
    "total_overall_loss = 1 - (wins.loc[\"Total\", (\"overall\", \"win\", \"value\")] + wins.loc[\"Total\", (\"overall\", \"draw\", \"value\")])\n",
    "total_overall_loss_sem = np.sqrt(total_overall_loss * (1 - total_overall_loss) / (20 * 240))\n",
    "total_overall_latex_wins[\"loss\"] = f'${total_overall_loss:.2f} \\pm {total_overall_loss_sem * 1.96:.2f}$'\n",
    "with open(f\"{game}_complex_rollouts_overall_total_{'with' if with_state_evaluator else 'without'}_state_evaluator.txt\", \"w\", encoding=\"utf-8\") as f:\n",
    "    total_overall_latex_wins.to_latex(f, escape=False, header=False)\n",
    "total_overall_latex_wins\n"
   ],
   "metadata": {
    "collapsed": false,
    "pycharm": {
     "name": "#%%\n",
     "is_executing": false
    }
   }
  },
  {
   "cell_type": "code",
   "execution_count": 63,
   "outputs": [
    {
     "name": "stdout",
     "text": [
      "(59.00146599528332, 16578.349544266683)\n",
      "(344.4308202154101, 19529.9628959276)\n"
     ],
     "output_type": "stream"
    }
   ],
   "source": [
    "complex_simulations_with_expansion, complex_simulations_without_expansion = split_simulations_with_and_without_expansion(complex_simulations)\n",
    "simple_simulations_with_expansion, simple_simulations_without_expansion = split_simulations_with_and_without_expansion(simple_simulations)\n",
    "average_complex_simulations = mean(complex_simulations_with_expansion), mean(complex_simulations_without_expansion)\n",
    "average_simple_simulations = mean(simple_simulations_with_expansion), mean(simple_simulations_without_expansion)\n",
    "print(average_complex_simulations)\n",
    "print(average_simple_simulations)\n",
    "simulations = pd.DataFrame.from_dict({\"Random rollouts\": [mean(simple_simulations_with_expansion), sum(average_simple_simulations)], \"Policy network rollouts\": [mean(complex_simulations_with_expansion), sum(average_complex_simulations)]}, orient=\"index\", columns=[\"Rollouts\", \"Simulations\"])\n",
    "with open(f\"{game}_complex_rollouts_simulations_{'with' if with_state_evaluator else 'without'}_state_evaluator.txt\", \"w\", encoding=\"utf-8\") as f:\n",
    "    simulations.to_latex(f, float_format=\"{:.0f}\".format)"
   ],
   "metadata": {
    "collapsed": false,
    "pycharm": {
     "name": "#%%\n",
     "is_executing": false
    }
   }
  }
 ],
 "metadata": {
  "kernelspec": {
   "display_name": "Python 3",
   "language": "python",
   "name": "python3"
  },
  "language_info": {
   "codemirror_mode": {
    "name": "ipython",
    "version": 2
   },
   "file_extension": ".py",
   "mimetype": "text/x-python",
   "name": "python",
   "nbconvert_exporter": "python",
   "pygments_lexer": "ipython2",
   "version": "2.7.6"
  },
  "pycharm": {
   "stem_cell": {
    "cell_type": "raw",
    "source": [],
    "metadata": {
     "collapsed": false
    }
   }
  }
 },
 "nbformat": 4,
 "nbformat_minor": 0
}
