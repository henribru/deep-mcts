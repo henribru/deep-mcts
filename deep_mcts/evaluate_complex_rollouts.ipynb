{
 "cells": [
  {
   "cell_type": "code",
   "execution_count": 11,
   "metadata": {
    "collapsed": true,
    "pycharm": {
     "is_executing": false
    }
   },
   "outputs": [],
   "source": [
    "import matplotlib.pyplot as plt\n",
    "import json\n",
    "import seaborn\n",
    "from pathlib import Path\n",
    "import numpy as np\n",
    "from statistics import mean, median"
   ]
  },
  {
   "cell_type": "code",
   "execution_count": 12,
   "outputs": [],
   "source": [
    "def split_simulations_with_and_without_expansion(simulations):\n",
    "    with_expansions = []\n",
    "    without_expansions = []\n",
    "    for simulations_per_model in simulations:\n",
    "        for simulations_per_game in simulations_per_model:\n",
    "            for simulations_per_move in simulations_per_game:\n",
    "                with_expansions_for_move, without_expansions_for_move = simulations_per_move\n",
    "                with_expansions.append(with_expansions_for_move)\n",
    "                without_expansions.append(without_expansions_for_move)\n",
    "    return with_expansions, without_expansions\n",
    "            \n",
    "game = \"othello\"\n",
    "results = []\n",
    "complex_simulations = []\n",
    "simple_simulations = []\n",
    "for result_file in Path(f\"{game}/complex_rollouts/with_state_evaluator/\").iterdir():\n",
    "    with open(result_file) as f:\n",
    "        result = json.load(f)\n",
    "        results.append(result[\"results\"])\n",
    "        complex_simulations.append(result[\"average_complex_simulations\"])\n",
    "        simple_simulations.append(result[\"average_simple_simulations\"])\n",
    "data = np.average(np.array(results), axis=0)\n",
    "complex_simulations_with_expansion, complex_simulations_without_expansion = split_simulations_with_and_without_expansion(complex_simulations)\n",
    "simple_simulations_with_expansion, simple_simulations_without_expansion = split_simulations_with_and_without_expansion(simple_simulations)\n",
    "average_complex_simulations = mean(complex_simulations_with_expansion), mean(complex_simulations_without_expansion)\n",
    "average_simple_simulations = mean(simple_simulations_with_expansion), mean(simple_simulations_without_expansion)"
   ],
   "metadata": {
    "collapsed": false,
    "pycharm": {
     "name": "#%%\n",
     "is_executing": false
    }
   }
  },
  {
   "cell_type": "code",
   "execution_count": 13,
   "outputs": [
    {
     "name": "stdout",
     "text": [
      "[0.38875 0.355   0.25625] (310.9200703686706, 12123.202921829585) (165.4758330141708, 11934.79800842589)\n"
     ],
     "output_type": "stream"
    }
   ],
   "source": [
    "print(np.average(data, axis=1), average_complex_simulations, average_simple_simulations)"
   ],
   "metadata": {
    "collapsed": false,
    "pycharm": {
     "name": "#%%\n",
     "is_executing": false
    }
   }
  }
 ],
 "metadata": {
  "kernelspec": {
   "display_name": "Python 3",
   "language": "python",
   "name": "python3"
  },
  "language_info": {
   "codemirror_mode": {
    "name": "ipython",
    "version": 2
   },
   "file_extension": ".py",
   "mimetype": "text/x-python",
   "name": "python",
   "nbconvert_exporter": "python",
   "pygments_lexer": "ipython2",
   "version": "2.7.6"
  },
  "pycharm": {
   "stem_cell": {
    "cell_type": "raw",
    "source": [],
    "metadata": {
     "collapsed": false
    }
   }
  }
 },
 "nbformat": 4,
 "nbformat_minor": 0
}