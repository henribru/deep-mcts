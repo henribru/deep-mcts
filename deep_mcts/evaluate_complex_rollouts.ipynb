{
 "cells": [
  {
   "cell_type": "code",
   "execution_count": 66,
   "metadata": {
    "collapsed": true,
    "pycharm": {
     "is_executing": false
    }
   },
   "outputs": [],
   "source": [
    "import itertools\n",
    "import matplotlib.pyplot as plt\n",
    "import json\n",
    "import seaborn\n",
    "from pathlib import Path\n",
    "import numpy as np\n",
    "from statistics import mean, median\n",
    "import pandas as pd"
   ]
  },
  {
   "cell_type": "code",
   "execution_count": 67,
   "outputs": [
    {
     "traceback": [
      "\u001b[0;31m---------------------------------------------------------------------------\u001b[0m",
      "\u001b[0;31mKeyError\u001b[0m                                  Traceback (most recent call last)",
      "\u001b[0;32m<ipython-input-67-9a3bf522e19f>\u001b[0m in \u001b[0;36m<module>\u001b[0;34m\u001b[0m\n\u001b[1;32m     19\u001b[0m         \u001b[0mresult\u001b[0m \u001b[0;34m=\u001b[0m \u001b[0mjson\u001b[0m\u001b[0;34m.\u001b[0m\u001b[0mload\u001b[0m\u001b[0;34m(\u001b[0m\u001b[0mf\u001b[0m\u001b[0;34m)\u001b[0m\u001b[0;34m\u001b[0m\u001b[0;34m\u001b[0m\u001b[0m\n\u001b[1;32m     20\u001b[0m         \u001b[0mresults\u001b[0m\u001b[0;34m.\u001b[0m\u001b[0mappend\u001b[0m\u001b[0;34m(\u001b[0m\u001b[0mresult\u001b[0m\u001b[0;34m[\u001b[0m\u001b[0;34m\"results\"\u001b[0m\u001b[0;34m]\u001b[0m\u001b[0;34m)\u001b[0m\u001b[0;34m\u001b[0m\u001b[0;34m\u001b[0m\u001b[0m\n\u001b[0;32m---> 21\u001b[0;31m         \u001b[0mcomplex_simulations\u001b[0m\u001b[0;34m.\u001b[0m\u001b[0mappend\u001b[0m\u001b[0;34m(\u001b[0m\u001b[0mresult\u001b[0m\u001b[0;34m[\u001b[0m\u001b[0;34m\"complex_simulations\"\u001b[0m\u001b[0;34m]\u001b[0m\u001b[0;34m)\u001b[0m\u001b[0;34m\u001b[0m\u001b[0;34m\u001b[0m\u001b[0m\n\u001b[0m\u001b[1;32m     22\u001b[0m         \u001b[0msimple_simulations\u001b[0m\u001b[0;34m.\u001b[0m\u001b[0mappend\u001b[0m\u001b[0;34m(\u001b[0m\u001b[0mresult\u001b[0m\u001b[0;34m[\u001b[0m\u001b[0;34m\"simple_simulations\"\u001b[0m\u001b[0;34m]\u001b[0m\u001b[0;34m)\u001b[0m\u001b[0;34m\u001b[0m\u001b[0;34m\u001b[0m\u001b[0m\n\u001b[1;32m     23\u001b[0m \u001b[0mresults\u001b[0m \u001b[0;34m=\u001b[0m \u001b[0mnp\u001b[0m\u001b[0;34m.\u001b[0m\u001b[0marray\u001b[0m\u001b[0;34m(\u001b[0m\u001b[0mresults\u001b[0m\u001b[0;34m)\u001b[0m\u001b[0;34m\u001b[0m\u001b[0;34m\u001b[0m\u001b[0m\n",
      "\u001b[0;31mKeyError\u001b[0m: 'complex_simulations'"
     ],
     "ename": "KeyError",
     "evalue": "'complex_simulations'",
     "output_type": "error"
    }
   ],
   "source": [
    "def split_simulations_with_and_without_expansion(simulations):\n",
    "    with_expansions = []\n",
    "    without_expansions = []\n",
    "    for simulations_per_model in simulations:\n",
    "        for simulations_per_game in simulations_per_model:\n",
    "            for simulations_per_move in simulations_per_game:\n",
    "                with_expansions_for_move, without_expansions_for_move = simulations_per_move\n",
    "                with_expansions.append(with_expansions_for_move)\n",
    "                without_expansions.append(without_expansions_for_move)\n",
    "    return with_expansions, without_expansions\n",
    "            \n",
    "game = \"hex_with_swap\"\n",
    "with_state_evaluator = False\n",
    "results = []\n",
    "complex_simulations = []\n",
    "simple_simulations = []\n",
    "for result_file in Path(f\"{game}/complex_rollouts/{'with' if with_state_evaluator else 'without'}_state_evaluator/\").iterdir():\n",
    "    with open(result_file) as f:\n",
    "        result = json.load(f)\n",
    "        results.append(result[\"results\"])\n",
    "        complex_simulations.append(result[\"complex_simulations\"])\n",
    "        simple_simulations.append(result[\"simple_simulations\"])\n",
    "results = np.array(results)\n",
    "wins = results[:, 0:2, :].reshape((20, 4))# + 0.5 * results[:, 1, :]\n",
    "wins = pd.DataFrame(wins, columns=[\"first_wins\", \"second_wins\", \"first_draws\", \"second_draws\"])\n",
    "wins = wins[[\"first_wins\", \"first_draws\", \"second_wins\", \"second_draws\"]]\n",
    "wins.insert(0, \"model\", np.arange(20))\n",
    "wins.insert(5, \"overall_wins\", (wins[\"first_wins\"] + wins[\"second_wins\"]) / 2)\n",
    "wins.insert(6, \"overall_draws\", (wins[\"first_draws\"] + wins[\"second_draws\"]) / 2)\n",
    "wins = wins.set_index(\"model\")\n",
    "wins"
   ],
   "metadata": {
    "collapsed": false,
    "pycharm": {
     "name": "#%%\n",
     "is_executing": false
    }
   }
  },
  {
   "cell_type": "code",
   "execution_count": null,
   "outputs": [],
   "source": [
    "index = pd.MultiIndex.from_product([[\"first\", \"second\", \"overall\"], [\"win\", \"draw\"], [\"value\", \"sem\"]])\n",
    "wins.insert(1, \"first_wins_sem\", -1)\n",
    "wins.insert(3, \"first_draws_sem\", -1)\n",
    "wins.insert(5, \"second_wins_sem\", -1)\n",
    "wins.insert(7, \"second_draws_sem\", -1)\n",
    "wins.insert(9, \"overall_wins_sem\", -1)\n",
    "wins.insert(11, \"overall_draws_sem\", -1)\n",
    "wins.columns = index\n",
    "for player, type in itertools.product([\"first\", \"second\", \"overall\"], [\"win\", \"draw\"]):\n",
    "    wins[player, type, \"sem\"] = np.sqrt(wins[player, type, \"value\"] * (1 - wins[player, type, \"value\"]) / (240 if player == \"overall\" else 120))\n",
    "totals = []\n",
    "for player, type in itertools.product([\"first\", \"second\", \"overall\"], [\"win\", \"draw\"]):\n",
    "    total = np.mean(wins[player, type, \"value\"])\n",
    "    totals.append(total)\n",
    "    totals.append(np.sqrt(total * (1 - total) / (20 * (240 if player == \"overall\" else 120))))\n",
    "wins.loc[\"Total\", :] = totals\n",
    "wins.index = wins.index.rename(\"Model\")\n",
    "wins"
   ],
   "metadata": {
    "collapsed": false,
    "pycharm": {
     "name": "#%%\n",
     "is_executing": false
    }
   }
  },
  {
   "cell_type": "code",
   "execution_count": null,
   "outputs": [],
   "source": [
    "latex_wins = pd.DataFrame(columns=pd.MultiIndex.from_product([[\"first\", \"second\", \"overall\"], [\"win\", \"draw\"]]))\n",
    "latex_wins.index = latex_wins.index.rename(\"Model\")\n",
    "def f(df):\n",
    "    def inner(player, type):\n",
    "        return f'${df[player, type, \"value\"]:.2f} \\pm {df[player, type, \"sem\"] * 1.96:.2f}$'\n",
    "    return [inner(player, type) for player in [\"first\", \"second\", \"overall\"] for type in [\"win\", \"draw\"]]\n",
    "latex_wins[[(\"first\", \"win\"), (\"first\", \"draw\"), (\"second\", \"win\"), (\"second\", \"draw\"), (\"overall\", \"win\"), (\"overall\", \"draw\")]] = wins.apply(func=f, axis=\"columns\", result_type=\"expand\")\n",
    "# latex_wins = latex_wins.rename(columns={\"first\": \"First player win ratio\", \"second\": \"Second player win ratio\", \"overall\": \"Overall win ratio\", \"value\": \"Value\", \"sem\": \"SEM\"})\n",
    "with open(f\"{game}_complex_rollouts_{'with' if with_state_evaluator else 'without'}_state_evaluator.txt\", \"w\", encoding=\"utf-8\") as f:\n",
    "   latex_wins.to_latex(f, escape=False)\n",
    "with open(f\"{game}_complex_rollouts_overall_total_{'with' if with_state_evaluator else 'without'}_state_evaluator.txt\", \"w\", encoding=\"utf-8\") as f:\n",
    "    latex_wins.loc[\"Total\", \"overall\"].to_latex(f, escape=False, header=False)\n",
    "latex_wins"
   ],
   "metadata": {
    "collapsed": false,
    "pycharm": {
     "name": "#%%\n",
     "is_executing": false
    }
   }
  },
  {
   "cell_type": "code",
   "execution_count": null,
   "outputs": [],
   "source": [
    "complex_simulations_with_expansion, complex_simulations_without_expansion = split_simulations_with_and_without_expansion(complex_simulations)\n",
    "simple_simulations_with_expansion, simple_simulations_without_expansion = split_simulations_with_and_without_expansion(simple_simulations)\n",
    "average_complex_simulations = mean(complex_simulations_with_expansion), mean(complex_simulations_without_expansion)\n",
    "average_simple_simulations = mean(simple_simulations_with_expansion), mean(simple_simulations_without_expansion)\n",
    "print(average_complex_simulations)\n",
    "print(average_simple_simulations)"
   ],
   "metadata": {
    "collapsed": false,
    "pycharm": {
     "name": "#%%\n",
     "is_executing": false
    }
   }
  },
  {
   "cell_type": "code",
   "execution_count": 234,
   "outputs": [
    {
     "data": {
      "text/plain": "                 first                            second                   \\\n                   win             draw              win             draw   \nModel                                                                       \n0      $0.45 \\pm 0.09$  $0.00 \\pm 0.00$  $0.02 \\pm 0.02$  $0.00 \\pm 0.00$   \n1      $0.50 \\pm 0.09$  $0.00 \\pm 0.00$  $0.03 \\pm 0.03$  $0.00 \\pm 0.00$   \n2      $0.17 \\pm 0.07$  $0.00 \\pm 0.00$  $0.00 \\pm 0.00$  $0.00 \\pm 0.00$   \n3      $0.62 \\pm 0.09$  $0.00 \\pm 0.00$  $0.00 \\pm 0.00$  $0.00 \\pm 0.00$   \n4      $1.00 \\pm 0.00$  $0.00 \\pm 0.00$  $0.00 \\pm 0.00$  $0.00 \\pm 0.00$   \n5      $0.84 \\pm 0.07$  $0.00 \\pm 0.00$  $0.00 \\pm 0.00$  $0.00 \\pm 0.00$   \n6      $0.23 \\pm 0.08$  $0.00 \\pm 0.00$  $0.17 \\pm 0.07$  $0.00 \\pm 0.00$   \n7      $0.63 \\pm 0.09$  $0.00 \\pm 0.00$  $0.32 \\pm 0.08$  $0.00 \\pm 0.00$   \n8      $0.97 \\pm 0.03$  $0.00 \\pm 0.00$  $0.00 \\pm 0.00$  $0.00 \\pm 0.00$   \n9      $0.98 \\pm 0.02$  $0.00 \\pm 0.00$  $0.00 \\pm 0.00$  $0.00 \\pm 0.00$   \n10     $0.01 \\pm 0.02$  $0.00 \\pm 0.00$  $0.50 \\pm 0.09$  $0.00 \\pm 0.00$   \n11     $0.97 \\pm 0.03$  $0.00 \\pm 0.00$  $0.16 \\pm 0.07$  $0.00 \\pm 0.00$   \n12     $0.00 \\pm 0.00$  $0.00 \\pm 0.00$  $0.98 \\pm 0.02$  $0.00 \\pm 0.00$   \n13     $0.67 \\pm 0.08$  $0.00 \\pm 0.00$  $0.00 \\pm 0.00$  $0.00 \\pm 0.00$   \n14     $0.22 \\pm 0.07$  $0.00 \\pm 0.00$  $0.88 \\pm 0.06$  $0.00 \\pm 0.00$   \n15     $1.00 \\pm 0.00$  $0.00 \\pm 0.00$  $0.00 \\pm 0.00$  $0.00 \\pm 0.00$   \n16     $0.00 \\pm 0.00$  $0.00 \\pm 0.00$  $0.31 \\pm 0.08$  $0.00 \\pm 0.00$   \n17     $0.67 \\pm 0.08$  $0.00 \\pm 0.00$  $0.00 \\pm 0.00$  $0.00 \\pm 0.00$   \n18     $0.93 \\pm 0.05$  $0.00 \\pm 0.00$  $0.00 \\pm 0.00$  $0.00 \\pm 0.00$   \n19     $0.93 \\pm 0.04$  $0.00 \\pm 0.00$  $0.97 \\pm 0.03$  $0.00 \\pm 0.00$   \nTotal  $0.59 \\pm 0.02$  $0.00 \\pm 0.00$  $0.22 \\pm 0.02$  $0.00 \\pm 0.00$   \n\n               overall                   \n                   win             draw  \nModel                                    \n0      $0.23 \\pm 0.05$  $0.00 \\pm 0.00$  \n1      $0.27 \\pm 0.06$  $0.00 \\pm 0.00$  \n2      $0.08 \\pm 0.03$  $0.00 \\pm 0.00$  \n3      $0.31 \\pm 0.06$  $0.00 \\pm 0.00$  \n4      $0.50 \\pm 0.06$  $0.00 \\pm 0.00$  \n5      $0.42 \\pm 0.06$  $0.00 \\pm 0.00$  \n6      $0.20 \\pm 0.05$  $0.00 \\pm 0.00$  \n7      $0.47 \\pm 0.06$  $0.00 \\pm 0.00$  \n8      $0.48 \\pm 0.06$  $0.00 \\pm 0.00$  \n9      $0.49 \\pm 0.06$  $0.00 \\pm 0.00$  \n10     $0.25 \\pm 0.06$  $0.00 \\pm 0.00$  \n11     $0.57 \\pm 0.06$  $0.00 \\pm 0.00$  \n12     $0.49 \\pm 0.06$  $0.00 \\pm 0.00$  \n13     $0.34 \\pm 0.06$  $0.00 \\pm 0.00$  \n14     $0.55 \\pm 0.06$  $0.00 \\pm 0.00$  \n15     $0.50 \\pm 0.06$  $0.00 \\pm 0.00$  \n16     $0.15 \\pm 0.05$  $0.00 \\pm 0.00$  \n17     $0.33 \\pm 0.06$  $0.00 \\pm 0.00$  \n18     $0.46 \\pm 0.06$  $0.00 \\pm 0.00$  \n19     $0.95 \\pm 0.03$  $0.00 \\pm 0.00$  \nTotal  $0.40 \\pm 0.01$  $0.00 \\pm 0.00$  ",
      "text/html": "<div>\n<style scoped>\n    .dataframe tbody tr th:only-of-type {\n        vertical-align: middle;\n    }\n\n    .dataframe tbody tr th {\n        vertical-align: top;\n    }\n\n    .dataframe thead tr th {\n        text-align: left;\n    }\n\n    .dataframe thead tr:last-of-type th {\n        text-align: right;\n    }\n</style>\n<table border=\"1\" class=\"dataframe\">\n  <thead>\n    <tr>\n      <th></th>\n      <th colspan=\"2\" halign=\"left\">first</th>\n      <th colspan=\"2\" halign=\"left\">second</th>\n      <th colspan=\"2\" halign=\"left\">overall</th>\n    </tr>\n    <tr>\n      <th></th>\n      <th>win</th>\n      <th>draw</th>\n      <th>win</th>\n      <th>draw</th>\n      <th>win</th>\n      <th>draw</th>\n    </tr>\n    <tr>\n      <th>Model</th>\n      <th></th>\n      <th></th>\n      <th></th>\n      <th></th>\n      <th></th>\n      <th></th>\n    </tr>\n  </thead>\n  <tbody>\n    <tr>\n      <th>0</th>\n      <td>$0.45 \\pm 0.09$</td>\n      <td>$0.00 \\pm 0.00$</td>\n      <td>$0.02 \\pm 0.02$</td>\n      <td>$0.00 \\pm 0.00$</td>\n      <td>$0.23 \\pm 0.05$</td>\n      <td>$0.00 \\pm 0.00$</td>\n    </tr>\n    <tr>\n      <th>1</th>\n      <td>$0.50 \\pm 0.09$</td>\n      <td>$0.00 \\pm 0.00$</td>\n      <td>$0.03 \\pm 0.03$</td>\n      <td>$0.00 \\pm 0.00$</td>\n      <td>$0.27 \\pm 0.06$</td>\n      <td>$0.00 \\pm 0.00$</td>\n    </tr>\n    <tr>\n      <th>2</th>\n      <td>$0.17 \\pm 0.07$</td>\n      <td>$0.00 \\pm 0.00$</td>\n      <td>$0.00 \\pm 0.00$</td>\n      <td>$0.00 \\pm 0.00$</td>\n      <td>$0.08 \\pm 0.03$</td>\n      <td>$0.00 \\pm 0.00$</td>\n    </tr>\n    <tr>\n      <th>3</th>\n      <td>$0.62 \\pm 0.09$</td>\n      <td>$0.00 \\pm 0.00$</td>\n      <td>$0.00 \\pm 0.00$</td>\n      <td>$0.00 \\pm 0.00$</td>\n      <td>$0.31 \\pm 0.06$</td>\n      <td>$0.00 \\pm 0.00$</td>\n    </tr>\n    <tr>\n      <th>4</th>\n      <td>$1.00 \\pm 0.00$</td>\n      <td>$0.00 \\pm 0.00$</td>\n      <td>$0.00 \\pm 0.00$</td>\n      <td>$0.00 \\pm 0.00$</td>\n      <td>$0.50 \\pm 0.06$</td>\n      <td>$0.00 \\pm 0.00$</td>\n    </tr>\n    <tr>\n      <th>5</th>\n      <td>$0.84 \\pm 0.07$</td>\n      <td>$0.00 \\pm 0.00$</td>\n      <td>$0.00 \\pm 0.00$</td>\n      <td>$0.00 \\pm 0.00$</td>\n      <td>$0.42 \\pm 0.06$</td>\n      <td>$0.00 \\pm 0.00$</td>\n    </tr>\n    <tr>\n      <th>6</th>\n      <td>$0.23 \\pm 0.08$</td>\n      <td>$0.00 \\pm 0.00$</td>\n      <td>$0.17 \\pm 0.07$</td>\n      <td>$0.00 \\pm 0.00$</td>\n      <td>$0.20 \\pm 0.05$</td>\n      <td>$0.00 \\pm 0.00$</td>\n    </tr>\n    <tr>\n      <th>7</th>\n      <td>$0.63 \\pm 0.09$</td>\n      <td>$0.00 \\pm 0.00$</td>\n      <td>$0.32 \\pm 0.08$</td>\n      <td>$0.00 \\pm 0.00$</td>\n      <td>$0.47 \\pm 0.06$</td>\n      <td>$0.00 \\pm 0.00$</td>\n    </tr>\n    <tr>\n      <th>8</th>\n      <td>$0.97 \\pm 0.03$</td>\n      <td>$0.00 \\pm 0.00$</td>\n      <td>$0.00 \\pm 0.00$</td>\n      <td>$0.00 \\pm 0.00$</td>\n      <td>$0.48 \\pm 0.06$</td>\n      <td>$0.00 \\pm 0.00$</td>\n    </tr>\n    <tr>\n      <th>9</th>\n      <td>$0.98 \\pm 0.02$</td>\n      <td>$0.00 \\pm 0.00$</td>\n      <td>$0.00 \\pm 0.00$</td>\n      <td>$0.00 \\pm 0.00$</td>\n      <td>$0.49 \\pm 0.06$</td>\n      <td>$0.00 \\pm 0.00$</td>\n    </tr>\n    <tr>\n      <th>10</th>\n      <td>$0.01 \\pm 0.02$</td>\n      <td>$0.00 \\pm 0.00$</td>\n      <td>$0.50 \\pm 0.09$</td>\n      <td>$0.00 \\pm 0.00$</td>\n      <td>$0.25 \\pm 0.06$</td>\n      <td>$0.00 \\pm 0.00$</td>\n    </tr>\n    <tr>\n      <th>11</th>\n      <td>$0.97 \\pm 0.03$</td>\n      <td>$0.00 \\pm 0.00$</td>\n      <td>$0.16 \\pm 0.07$</td>\n      <td>$0.00 \\pm 0.00$</td>\n      <td>$0.57 \\pm 0.06$</td>\n      <td>$0.00 \\pm 0.00$</td>\n    </tr>\n    <tr>\n      <th>12</th>\n      <td>$0.00 \\pm 0.00$</td>\n      <td>$0.00 \\pm 0.00$</td>\n      <td>$0.98 \\pm 0.02$</td>\n      <td>$0.00 \\pm 0.00$</td>\n      <td>$0.49 \\pm 0.06$</td>\n      <td>$0.00 \\pm 0.00$</td>\n    </tr>\n    <tr>\n      <th>13</th>\n      <td>$0.67 \\pm 0.08$</td>\n      <td>$0.00 \\pm 0.00$</td>\n      <td>$0.00 \\pm 0.00$</td>\n      <td>$0.00 \\pm 0.00$</td>\n      <td>$0.34 \\pm 0.06$</td>\n      <td>$0.00 \\pm 0.00$</td>\n    </tr>\n    <tr>\n      <th>14</th>\n      <td>$0.22 \\pm 0.07$</td>\n      <td>$0.00 \\pm 0.00$</td>\n      <td>$0.88 \\pm 0.06$</td>\n      <td>$0.00 \\pm 0.00$</td>\n      <td>$0.55 \\pm 0.06$</td>\n      <td>$0.00 \\pm 0.00$</td>\n    </tr>\n    <tr>\n      <th>15</th>\n      <td>$1.00 \\pm 0.00$</td>\n      <td>$0.00 \\pm 0.00$</td>\n      <td>$0.00 \\pm 0.00$</td>\n      <td>$0.00 \\pm 0.00$</td>\n      <td>$0.50 \\pm 0.06$</td>\n      <td>$0.00 \\pm 0.00$</td>\n    </tr>\n    <tr>\n      <th>16</th>\n      <td>$0.00 \\pm 0.00$</td>\n      <td>$0.00 \\pm 0.00$</td>\n      <td>$0.31 \\pm 0.08$</td>\n      <td>$0.00 \\pm 0.00$</td>\n      <td>$0.15 \\pm 0.05$</td>\n      <td>$0.00 \\pm 0.00$</td>\n    </tr>\n    <tr>\n      <th>17</th>\n      <td>$0.67 \\pm 0.08$</td>\n      <td>$0.00 \\pm 0.00$</td>\n      <td>$0.00 \\pm 0.00$</td>\n      <td>$0.00 \\pm 0.00$</td>\n      <td>$0.33 \\pm 0.06$</td>\n      <td>$0.00 \\pm 0.00$</td>\n    </tr>\n    <tr>\n      <th>18</th>\n      <td>$0.93 \\pm 0.05$</td>\n      <td>$0.00 \\pm 0.00$</td>\n      <td>$0.00 \\pm 0.00$</td>\n      <td>$0.00 \\pm 0.00$</td>\n      <td>$0.46 \\pm 0.06$</td>\n      <td>$0.00 \\pm 0.00$</td>\n    </tr>\n    <tr>\n      <th>19</th>\n      <td>$0.93 \\pm 0.04$</td>\n      <td>$0.00 \\pm 0.00$</td>\n      <td>$0.97 \\pm 0.03$</td>\n      <td>$0.00 \\pm 0.00$</td>\n      <td>$0.95 \\pm 0.03$</td>\n      <td>$0.00 \\pm 0.00$</td>\n    </tr>\n    <tr>\n      <th>Total</th>\n      <td>$0.59 \\pm 0.02$</td>\n      <td>$0.00 \\pm 0.00$</td>\n      <td>$0.22 \\pm 0.02$</td>\n      <td>$0.00 \\pm 0.00$</td>\n      <td>$0.40 \\pm 0.01$</td>\n      <td>$0.00 \\pm 0.00$</td>\n    </tr>\n  </tbody>\n</table>\n</div>"
     },
     "metadata": {},
     "output_type": "execute_result",
     "execution_count": 234
    }
   ],
   "source": [
    "complex_simulations_with_expansion, complex_simulations_without_expansion = split_simulations_with_and_without_expansion(complex_simulations)\n",
    "simple_simulations_with_expansion, simple_simulations_without_expansion = split_simulations_with_and_without_expansion(simple_simulations)\n",
    "average_complex_simulations = mean(complex_simulations_with_expansion), mean(complex_simulations_without_expansion)\n",
    "average_simple_simulations = mean(simple_simulations_with_expansion), mean(simple_simulations_without_expansion)\n",
    "print(average_complex_simulations)\n",
    "print(average_simple_simulations)"
   ],
   "metadata": {
    "collapsed": false,
    "pycharm": {
     "name": "#%%\n",
     "is_executing": false
    }
   }
  },
  {
   "cell_type": "code",
   "execution_count": 235,
   "outputs": [
    {
     "name": "stdout",
     "text": [
      "(83.94282328011924, 2914.9080395783576)\n",
      "(156.67311356876994, 2989.506348951933)\n"
     ],
     "output_type": "stream"
    }
   ],
   "source": [
    "complex_simulations_with_expansion, complex_simulations_without_expansion = split_simulations_with_and_without_expansion(complex_simulations)\n",
    "simple_simulations_with_expansion, simple_simulations_without_expansion = split_simulations_with_and_without_expansion(simple_simulations)\n",
    "average_complex_simulations = mean(complex_simulations_with_expansion), mean(complex_simulations_without_expansion)\n",
    "average_simple_simulations = mean(simple_simulations_with_expansion), mean(simple_simulations_without_expansion)\n",
    "print(average_complex_simulations)\n",
    "print(average_simple_simulations)"
   ],
   "metadata": {
    "collapsed": false,
    "pycharm": {
     "name": "#%%\n",
     "is_executing": false
    }
   }
  }
 ],
 "metadata": {
  "kernelspec": {
   "display_name": "Python 3",
   "language": "python",
   "name": "python3"
  },
  "language_info": {
   "codemirror_mode": {
    "name": "ipython",
    "version": 2
   },
   "file_extension": ".py",
   "mimetype": "text/x-python",
   "name": "python",
   "nbconvert_exporter": "python",
   "pygments_lexer": "ipython2",
   "version": "2.7.6"
  },
  "pycharm": {
   "stem_cell": {
    "cell_type": "raw",
    "source": [],
    "metadata": {
     "collapsed": false
    }
   }
  }
 },
 "nbformat": 4,
 "nbformat_minor": 0
}