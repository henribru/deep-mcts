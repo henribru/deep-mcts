{
 "cells": [
  {
   "cell_type": "code",
   "execution_count": 231,
   "metadata": {
    "collapsed": true,
    "pycharm": {
     "is_executing": false
    }
   },
   "outputs": [],
   "source": [
    "import itertools\n",
    "import matplotlib.pyplot as plt\n",
    "import json\n",
    "import seaborn\n",
    "from pathlib import Path\n",
    "import numpy as np\n",
    "from statistics import mean, median\n",
    "import pandas as pd"
   ]
  },
  {
   "cell_type": "code",
   "execution_count": 232,
   "outputs": [
    {
     "data": {
      "text/plain": "       first_wins  first_draws  second_wins  second_draws  overall_wins  \\\nmodel                                                                     \n0        0.450000          0.0     0.016667           0.0      0.233333   \n1        0.500000          0.0     0.033333           0.0      0.266667   \n2        0.166667          0.0     0.000000           0.0      0.083333   \n3        0.625000          0.0     0.000000           0.0      0.312500   \n4        1.000000          0.0     0.000000           0.0      0.500000   \n5        0.841667          0.0     0.000000           0.0      0.420833   \n6        0.233333          0.0     0.166667           0.0      0.200000   \n7        0.633333          0.0     0.316667           0.0      0.475000   \n8        0.966667          0.0     0.000000           0.0      0.483333   \n9        0.983333          0.0     0.000000           0.0      0.491667   \n10       0.008333          0.0     0.500000           0.0      0.254167   \n11       0.975000          0.0     0.158333           0.0      0.566667   \n12       0.000000          0.0     0.983333           0.0      0.491667   \n13       0.675000          0.0     0.000000           0.0      0.337500   \n14       0.216667          0.0     0.875000           0.0      0.545833   \n15       1.000000          0.0     0.000000           0.0      0.500000   \n16       0.000000          0.0     0.308333           0.0      0.154167   \n17       0.666667          0.0     0.000000           0.0      0.333333   \n18       0.925000          0.0     0.000000           0.0      0.462500   \n19       0.933333          0.0     0.975000           0.0      0.954167   \n\n       overall_draws  \nmodel                 \n0                0.0  \n1                0.0  \n2                0.0  \n3                0.0  \n4                0.0  \n5                0.0  \n6                0.0  \n7                0.0  \n8                0.0  \n9                0.0  \n10               0.0  \n11               0.0  \n12               0.0  \n13               0.0  \n14               0.0  \n15               0.0  \n16               0.0  \n17               0.0  \n18               0.0  \n19               0.0  ",
      "text/html": "<div>\n<style scoped>\n    .dataframe tbody tr th:only-of-type {\n        vertical-align: middle;\n    }\n\n    .dataframe tbody tr th {\n        vertical-align: top;\n    }\n\n    .dataframe thead th {\n        text-align: right;\n    }\n</style>\n<table border=\"1\" class=\"dataframe\">\n  <thead>\n    <tr style=\"text-align: right;\">\n      <th></th>\n      <th>first_wins</th>\n      <th>first_draws</th>\n      <th>second_wins</th>\n      <th>second_draws</th>\n      <th>overall_wins</th>\n      <th>overall_draws</th>\n    </tr>\n    <tr>\n      <th>model</th>\n      <th></th>\n      <th></th>\n      <th></th>\n      <th></th>\n      <th></th>\n      <th></th>\n    </tr>\n  </thead>\n  <tbody>\n    <tr>\n      <th>0</th>\n      <td>0.450000</td>\n      <td>0.0</td>\n      <td>0.016667</td>\n      <td>0.0</td>\n      <td>0.233333</td>\n      <td>0.0</td>\n    </tr>\n    <tr>\n      <th>1</th>\n      <td>0.500000</td>\n      <td>0.0</td>\n      <td>0.033333</td>\n      <td>0.0</td>\n      <td>0.266667</td>\n      <td>0.0</td>\n    </tr>\n    <tr>\n      <th>2</th>\n      <td>0.166667</td>\n      <td>0.0</td>\n      <td>0.000000</td>\n      <td>0.0</td>\n      <td>0.083333</td>\n      <td>0.0</td>\n    </tr>\n    <tr>\n      <th>3</th>\n      <td>0.625000</td>\n      <td>0.0</td>\n      <td>0.000000</td>\n      <td>0.0</td>\n      <td>0.312500</td>\n      <td>0.0</td>\n    </tr>\n    <tr>\n      <th>4</th>\n      <td>1.000000</td>\n      <td>0.0</td>\n      <td>0.000000</td>\n      <td>0.0</td>\n      <td>0.500000</td>\n      <td>0.0</td>\n    </tr>\n    <tr>\n      <th>5</th>\n      <td>0.841667</td>\n      <td>0.0</td>\n      <td>0.000000</td>\n      <td>0.0</td>\n      <td>0.420833</td>\n      <td>0.0</td>\n    </tr>\n    <tr>\n      <th>6</th>\n      <td>0.233333</td>\n      <td>0.0</td>\n      <td>0.166667</td>\n      <td>0.0</td>\n      <td>0.200000</td>\n      <td>0.0</td>\n    </tr>\n    <tr>\n      <th>7</th>\n      <td>0.633333</td>\n      <td>0.0</td>\n      <td>0.316667</td>\n      <td>0.0</td>\n      <td>0.475000</td>\n      <td>0.0</td>\n    </tr>\n    <tr>\n      <th>8</th>\n      <td>0.966667</td>\n      <td>0.0</td>\n      <td>0.000000</td>\n      <td>0.0</td>\n      <td>0.483333</td>\n      <td>0.0</td>\n    </tr>\n    <tr>\n      <th>9</th>\n      <td>0.983333</td>\n      <td>0.0</td>\n      <td>0.000000</td>\n      <td>0.0</td>\n      <td>0.491667</td>\n      <td>0.0</td>\n    </tr>\n    <tr>\n      <th>10</th>\n      <td>0.008333</td>\n      <td>0.0</td>\n      <td>0.500000</td>\n      <td>0.0</td>\n      <td>0.254167</td>\n      <td>0.0</td>\n    </tr>\n    <tr>\n      <th>11</th>\n      <td>0.975000</td>\n      <td>0.0</td>\n      <td>0.158333</td>\n      <td>0.0</td>\n      <td>0.566667</td>\n      <td>0.0</td>\n    </tr>\n    <tr>\n      <th>12</th>\n      <td>0.000000</td>\n      <td>0.0</td>\n      <td>0.983333</td>\n      <td>0.0</td>\n      <td>0.491667</td>\n      <td>0.0</td>\n    </tr>\n    <tr>\n      <th>13</th>\n      <td>0.675000</td>\n      <td>0.0</td>\n      <td>0.000000</td>\n      <td>0.0</td>\n      <td>0.337500</td>\n      <td>0.0</td>\n    </tr>\n    <tr>\n      <th>14</th>\n      <td>0.216667</td>\n      <td>0.0</td>\n      <td>0.875000</td>\n      <td>0.0</td>\n      <td>0.545833</td>\n      <td>0.0</td>\n    </tr>\n    <tr>\n      <th>15</th>\n      <td>1.000000</td>\n      <td>0.0</td>\n      <td>0.000000</td>\n      <td>0.0</td>\n      <td>0.500000</td>\n      <td>0.0</td>\n    </tr>\n    <tr>\n      <th>16</th>\n      <td>0.000000</td>\n      <td>0.0</td>\n      <td>0.308333</td>\n      <td>0.0</td>\n      <td>0.154167</td>\n      <td>0.0</td>\n    </tr>\n    <tr>\n      <th>17</th>\n      <td>0.666667</td>\n      <td>0.0</td>\n      <td>0.000000</td>\n      <td>0.0</td>\n      <td>0.333333</td>\n      <td>0.0</td>\n    </tr>\n    <tr>\n      <th>18</th>\n      <td>0.925000</td>\n      <td>0.0</td>\n      <td>0.000000</td>\n      <td>0.0</td>\n      <td>0.462500</td>\n      <td>0.0</td>\n    </tr>\n    <tr>\n      <th>19</th>\n      <td>0.933333</td>\n      <td>0.0</td>\n      <td>0.975000</td>\n      <td>0.0</td>\n      <td>0.954167</td>\n      <td>0.0</td>\n    </tr>\n  </tbody>\n</table>\n</div>"
     },
     "metadata": {},
     "output_type": "execute_result",
     "execution_count": 232
    }
   ],
   "source": [
    "def split_simulations_with_and_without_expansion(simulations):\n",
    "    with_expansions = []\n",
    "    without_expansions = []\n",
    "    for simulations_per_model in simulations:\n",
    "        for simulations_per_game in simulations_per_model:\n",
    "            for simulations_per_move in simulations_per_game:\n",
    "                with_expansions_for_move, without_expansions_for_move = simulations_per_move\n",
    "                with_expansions.append(with_expansions_for_move)\n",
    "                without_expansions.append(without_expansions_for_move)\n",
    "    return with_expansions, without_expansions\n",
    "            \n",
    "game = \"hex\"\n",
    "results = []\n",
    "complex_simulations = []\n",
    "simple_simulations = []\n",
    "for result_file in Path(f\"{game}/complex_rollouts/with_state_evaluator/\").iterdir():\n",
    "    with open(result_file) as f:\n",
    "        result = json.load(f)\n",
    "        results.append(result[\"results\"])\n",
    "        complex_simulations.append(result[\"complex_simulations\"])\n",
    "        simple_simulations.append(result[\"simple_simulations\"])\n",
    "results = np.array(results)\n",
    "wins = results[:, 0:2, :].reshape((20, 4))# + 0.5 * results[:, 1, :]\n",
    "wins = pd.DataFrame(wins, columns=[\"first_wins\", \"second_wins\", \"first_draws\", \"second_draws\"])\n",
    "wins = wins[[\"first_wins\", \"first_draws\", \"second_wins\", \"second_draws\"]]\n",
    "wins.insert(0, \"model\", np.arange(20))\n",
    "wins.insert(5, \"overall_wins\", (wins[\"first_wins\"] + wins[\"second_wins\"]) / 2)\n",
    "wins.insert(6, \"overall_draws\", (wins[\"first_draws\"] + wins[\"second_draws\"]) / 2)\n",
    "wins = wins.set_index(\"model\")\n",
    "wins"
   ],
   "metadata": {
    "collapsed": false,
    "pycharm": {
     "name": "#%%\n",
     "is_executing": false
    }
   }
  },
  {
   "cell_type": "code",
   "execution_count": 233,
   "outputs": [
    {
     "data": {
      "text/plain": "          first                         second                        overall  \\\n            win            draw            win            draw            win   \n          value       sem value  sem     value       sem value  sem     value   \nModel                                                                           \n0      0.450000  0.045415   0.0  0.0  0.016667  0.011686   0.0  0.0  0.233333   \n1      0.500000  0.045644   0.0  0.0  0.033333  0.016387   0.0  0.0  0.266667   \n2      0.166667  0.034021   0.0  0.0  0.000000  0.000000   0.0  0.0  0.083333   \n3      0.625000  0.044194   0.0  0.0  0.000000  0.000000   0.0  0.0  0.312500   \n4      1.000000  0.000000   0.0  0.0  0.000000  0.000000   0.0  0.0  0.500000   \n5      0.841667  0.033325   0.0  0.0  0.000000  0.000000   0.0  0.0  0.420833   \n6      0.233333  0.038610   0.0  0.0  0.166667  0.034021   0.0  0.0  0.200000   \n7      0.633333  0.043991   0.0  0.0  0.316667  0.042465   0.0  0.0  0.475000   \n8      0.966667  0.016387   0.0  0.0  0.000000  0.000000   0.0  0.0  0.483333   \n9      0.983333  0.011686   0.0  0.0  0.000000  0.000000   0.0  0.0  0.491667   \n10     0.008333  0.008299   0.0  0.0  0.500000  0.045644   0.0  0.0  0.254167   \n11     0.975000  0.014252   0.0  0.0  0.158333  0.033325   0.0  0.0  0.566667   \n12     0.000000  0.000000   0.0  0.0  0.983333  0.011686   0.0  0.0  0.491667   \n13     0.675000  0.042757   0.0  0.0  0.000000  0.000000   0.0  0.0  0.337500   \n14     0.216667  0.037608   0.0  0.0  0.875000  0.030190   0.0  0.0  0.545833   \n15     1.000000  0.000000   0.0  0.0  0.000000  0.000000   0.0  0.0  0.500000   \n16     0.000000  0.000000   0.0  0.0  0.308333  0.042157   0.0  0.0  0.154167   \n17     0.666667  0.043033   0.0  0.0  0.000000  0.000000   0.0  0.0  0.333333   \n18     0.925000  0.024044   0.0  0.0  0.000000  0.000000   0.0  0.0  0.462500   \n19     0.933333  0.022771   0.0  0.0  0.975000  0.014252   0.0  0.0  0.954167   \nTotal  0.590000  0.010040   0.0  0.0  0.216667  0.008409   0.0  0.0  0.403333   \n\n                            \n                 draw       \n            sem value  sem  \nModel                       \n0      0.027301   0.0  0.0  \n1      0.028545   0.0  0.0  \n2      0.017841   0.0  0.0  \n3      0.029920   0.0  0.0  \n4      0.032275   0.0  0.0  \n5      0.031868   0.0  0.0  \n6      0.025820   0.0  0.0  \n7      0.032234   0.0  0.0  \n8      0.032257   0.0  0.0  \n9      0.032270   0.0  0.0  \n10     0.028104   0.0  0.0  \n11     0.031987   0.0  0.0  \n12     0.032270   0.0  0.0  \n13     0.030523   0.0  0.0  \n14     0.032139   0.0  0.0  \n15     0.032275   0.0  0.0  \n16     0.023309   0.0  0.0  \n17     0.030429   0.0  0.0  \n18     0.032184   0.0  0.0  \n19     0.013499   0.0  0.0  \nTotal  0.007081   0.0  0.0  ",
      "text/html": "<div>\n<style scoped>\n    .dataframe tbody tr th:only-of-type {\n        vertical-align: middle;\n    }\n\n    .dataframe tbody tr th {\n        vertical-align: top;\n    }\n\n    .dataframe thead tr th {\n        text-align: left;\n    }\n\n    .dataframe thead tr:last-of-type th {\n        text-align: right;\n    }\n</style>\n<table border=\"1\" class=\"dataframe\">\n  <thead>\n    <tr>\n      <th></th>\n      <th colspan=\"4\" halign=\"left\">first</th>\n      <th colspan=\"4\" halign=\"left\">second</th>\n      <th colspan=\"4\" halign=\"left\">overall</th>\n    </tr>\n    <tr>\n      <th></th>\n      <th colspan=\"2\" halign=\"left\">win</th>\n      <th colspan=\"2\" halign=\"left\">draw</th>\n      <th colspan=\"2\" halign=\"left\">win</th>\n      <th colspan=\"2\" halign=\"left\">draw</th>\n      <th colspan=\"2\" halign=\"left\">win</th>\n      <th colspan=\"2\" halign=\"left\">draw</th>\n    </tr>\n    <tr>\n      <th></th>\n      <th>value</th>\n      <th>sem</th>\n      <th>value</th>\n      <th>sem</th>\n      <th>value</th>\n      <th>sem</th>\n      <th>value</th>\n      <th>sem</th>\n      <th>value</th>\n      <th>sem</th>\n      <th>value</th>\n      <th>sem</th>\n    </tr>\n    <tr>\n      <th>Model</th>\n      <th></th>\n      <th></th>\n      <th></th>\n      <th></th>\n      <th></th>\n      <th></th>\n      <th></th>\n      <th></th>\n      <th></th>\n      <th></th>\n      <th></th>\n      <th></th>\n    </tr>\n  </thead>\n  <tbody>\n    <tr>\n      <th>0</th>\n      <td>0.450000</td>\n      <td>0.045415</td>\n      <td>0.0</td>\n      <td>0.0</td>\n      <td>0.016667</td>\n      <td>0.011686</td>\n      <td>0.0</td>\n      <td>0.0</td>\n      <td>0.233333</td>\n      <td>0.027301</td>\n      <td>0.0</td>\n      <td>0.0</td>\n    </tr>\n    <tr>\n      <th>1</th>\n      <td>0.500000</td>\n      <td>0.045644</td>\n      <td>0.0</td>\n      <td>0.0</td>\n      <td>0.033333</td>\n      <td>0.016387</td>\n      <td>0.0</td>\n      <td>0.0</td>\n      <td>0.266667</td>\n      <td>0.028545</td>\n      <td>0.0</td>\n      <td>0.0</td>\n    </tr>\n    <tr>\n      <th>2</th>\n      <td>0.166667</td>\n      <td>0.034021</td>\n      <td>0.0</td>\n      <td>0.0</td>\n      <td>0.000000</td>\n      <td>0.000000</td>\n      <td>0.0</td>\n      <td>0.0</td>\n      <td>0.083333</td>\n      <td>0.017841</td>\n      <td>0.0</td>\n      <td>0.0</td>\n    </tr>\n    <tr>\n      <th>3</th>\n      <td>0.625000</td>\n      <td>0.044194</td>\n      <td>0.0</td>\n      <td>0.0</td>\n      <td>0.000000</td>\n      <td>0.000000</td>\n      <td>0.0</td>\n      <td>0.0</td>\n      <td>0.312500</td>\n      <td>0.029920</td>\n      <td>0.0</td>\n      <td>0.0</td>\n    </tr>\n    <tr>\n      <th>4</th>\n      <td>1.000000</td>\n      <td>0.000000</td>\n      <td>0.0</td>\n      <td>0.0</td>\n      <td>0.000000</td>\n      <td>0.000000</td>\n      <td>0.0</td>\n      <td>0.0</td>\n      <td>0.500000</td>\n      <td>0.032275</td>\n      <td>0.0</td>\n      <td>0.0</td>\n    </tr>\n    <tr>\n      <th>5</th>\n      <td>0.841667</td>\n      <td>0.033325</td>\n      <td>0.0</td>\n      <td>0.0</td>\n      <td>0.000000</td>\n      <td>0.000000</td>\n      <td>0.0</td>\n      <td>0.0</td>\n      <td>0.420833</td>\n      <td>0.031868</td>\n      <td>0.0</td>\n      <td>0.0</td>\n    </tr>\n    <tr>\n      <th>6</th>\n      <td>0.233333</td>\n      <td>0.038610</td>\n      <td>0.0</td>\n      <td>0.0</td>\n      <td>0.166667</td>\n      <td>0.034021</td>\n      <td>0.0</td>\n      <td>0.0</td>\n      <td>0.200000</td>\n      <td>0.025820</td>\n      <td>0.0</td>\n      <td>0.0</td>\n    </tr>\n    <tr>\n      <th>7</th>\n      <td>0.633333</td>\n      <td>0.043991</td>\n      <td>0.0</td>\n      <td>0.0</td>\n      <td>0.316667</td>\n      <td>0.042465</td>\n      <td>0.0</td>\n      <td>0.0</td>\n      <td>0.475000</td>\n      <td>0.032234</td>\n      <td>0.0</td>\n      <td>0.0</td>\n    </tr>\n    <tr>\n      <th>8</th>\n      <td>0.966667</td>\n      <td>0.016387</td>\n      <td>0.0</td>\n      <td>0.0</td>\n      <td>0.000000</td>\n      <td>0.000000</td>\n      <td>0.0</td>\n      <td>0.0</td>\n      <td>0.483333</td>\n      <td>0.032257</td>\n      <td>0.0</td>\n      <td>0.0</td>\n    </tr>\n    <tr>\n      <th>9</th>\n      <td>0.983333</td>\n      <td>0.011686</td>\n      <td>0.0</td>\n      <td>0.0</td>\n      <td>0.000000</td>\n      <td>0.000000</td>\n      <td>0.0</td>\n      <td>0.0</td>\n      <td>0.491667</td>\n      <td>0.032270</td>\n      <td>0.0</td>\n      <td>0.0</td>\n    </tr>\n    <tr>\n      <th>10</th>\n      <td>0.008333</td>\n      <td>0.008299</td>\n      <td>0.0</td>\n      <td>0.0</td>\n      <td>0.500000</td>\n      <td>0.045644</td>\n      <td>0.0</td>\n      <td>0.0</td>\n      <td>0.254167</td>\n      <td>0.028104</td>\n      <td>0.0</td>\n      <td>0.0</td>\n    </tr>\n    <tr>\n      <th>11</th>\n      <td>0.975000</td>\n      <td>0.014252</td>\n      <td>0.0</td>\n      <td>0.0</td>\n      <td>0.158333</td>\n      <td>0.033325</td>\n      <td>0.0</td>\n      <td>0.0</td>\n      <td>0.566667</td>\n      <td>0.031987</td>\n      <td>0.0</td>\n      <td>0.0</td>\n    </tr>\n    <tr>\n      <th>12</th>\n      <td>0.000000</td>\n      <td>0.000000</td>\n      <td>0.0</td>\n      <td>0.0</td>\n      <td>0.983333</td>\n      <td>0.011686</td>\n      <td>0.0</td>\n      <td>0.0</td>\n      <td>0.491667</td>\n      <td>0.032270</td>\n      <td>0.0</td>\n      <td>0.0</td>\n    </tr>\n    <tr>\n      <th>13</th>\n      <td>0.675000</td>\n      <td>0.042757</td>\n      <td>0.0</td>\n      <td>0.0</td>\n      <td>0.000000</td>\n      <td>0.000000</td>\n      <td>0.0</td>\n      <td>0.0</td>\n      <td>0.337500</td>\n      <td>0.030523</td>\n      <td>0.0</td>\n      <td>0.0</td>\n    </tr>\n    <tr>\n      <th>14</th>\n      <td>0.216667</td>\n      <td>0.037608</td>\n      <td>0.0</td>\n      <td>0.0</td>\n      <td>0.875000</td>\n      <td>0.030190</td>\n      <td>0.0</td>\n      <td>0.0</td>\n      <td>0.545833</td>\n      <td>0.032139</td>\n      <td>0.0</td>\n      <td>0.0</td>\n    </tr>\n    <tr>\n      <th>15</th>\n      <td>1.000000</td>\n      <td>0.000000</td>\n      <td>0.0</td>\n      <td>0.0</td>\n      <td>0.000000</td>\n      <td>0.000000</td>\n      <td>0.0</td>\n      <td>0.0</td>\n      <td>0.500000</td>\n      <td>0.032275</td>\n      <td>0.0</td>\n      <td>0.0</td>\n    </tr>\n    <tr>\n      <th>16</th>\n      <td>0.000000</td>\n      <td>0.000000</td>\n      <td>0.0</td>\n      <td>0.0</td>\n      <td>0.308333</td>\n      <td>0.042157</td>\n      <td>0.0</td>\n      <td>0.0</td>\n      <td>0.154167</td>\n      <td>0.023309</td>\n      <td>0.0</td>\n      <td>0.0</td>\n    </tr>\n    <tr>\n      <th>17</th>\n      <td>0.666667</td>\n      <td>0.043033</td>\n      <td>0.0</td>\n      <td>0.0</td>\n      <td>0.000000</td>\n      <td>0.000000</td>\n      <td>0.0</td>\n      <td>0.0</td>\n      <td>0.333333</td>\n      <td>0.030429</td>\n      <td>0.0</td>\n      <td>0.0</td>\n    </tr>\n    <tr>\n      <th>18</th>\n      <td>0.925000</td>\n      <td>0.024044</td>\n      <td>0.0</td>\n      <td>0.0</td>\n      <td>0.000000</td>\n      <td>0.000000</td>\n      <td>0.0</td>\n      <td>0.0</td>\n      <td>0.462500</td>\n      <td>0.032184</td>\n      <td>0.0</td>\n      <td>0.0</td>\n    </tr>\n    <tr>\n      <th>19</th>\n      <td>0.933333</td>\n      <td>0.022771</td>\n      <td>0.0</td>\n      <td>0.0</td>\n      <td>0.975000</td>\n      <td>0.014252</td>\n      <td>0.0</td>\n      <td>0.0</td>\n      <td>0.954167</td>\n      <td>0.013499</td>\n      <td>0.0</td>\n      <td>0.0</td>\n    </tr>\n    <tr>\n      <th>Total</th>\n      <td>0.590000</td>\n      <td>0.010040</td>\n      <td>0.0</td>\n      <td>0.0</td>\n      <td>0.216667</td>\n      <td>0.008409</td>\n      <td>0.0</td>\n      <td>0.0</td>\n      <td>0.403333</td>\n      <td>0.007081</td>\n      <td>0.0</td>\n      <td>0.0</td>\n    </tr>\n  </tbody>\n</table>\n</div>"
     },
     "metadata": {},
     "output_type": "execute_result",
     "execution_count": 233
    }
   ],
   "source": [
    "index = pd.MultiIndex.from_product([[\"first\", \"second\", \"overall\"], [\"win\", \"draw\"], [\"value\", \"sem\"]])\n",
    "wins.insert(1, \"first_wins_sem\", -1)\n",
    "wins.insert(3, \"first_draws_sem\", -1)\n",
    "wins.insert(5, \"second_wins_sem\", -1)\n",
    "wins.insert(7, \"second_draws_sem\", -1)\n",
    "wins.insert(9, \"overall_wins_sem\", -1)\n",
    "wins.insert(11, \"overall_draws_sem\", -1)\n",
    "wins.columns = index\n",
    "for player, type in itertools.product([\"first\", \"second\", \"overall\"], [\"win\", \"draw\"]):\n",
    "    wins[player, type, \"sem\"] = np.sqrt(wins[player, type, \"value\"] * (1 - wins[player, type, \"value\"]) / (240 if player == \"overall\" else 120))\n",
    "totals = []\n",
    "for player, type in itertools.product([\"first\", \"second\", \"overall\"], [\"win\", \"draw\"]):\n",
    "    total = np.mean(wins[player, type, \"value\"])\n",
    "    totals.append(total)\n",
    "    totals.append(np.sqrt(total * (1 - total) / (20 * (240 if player == \"overall\" else 120))))\n",
    "wins.loc[\"Total\", :] = totals\n",
    "wins.index = wins.index.rename(\"Model\")\n",
    "wins"
   ],
   "metadata": {
    "collapsed": false,
    "pycharm": {
     "name": "#%%\n",
     "is_executing": false
    }
   }
  },
  {
   "cell_type": "code",
   "execution_count": null,
   "outputs": [],
   "source": [
    "latex_wins = pd.DataFrame(columns=pd.MultiIndex.from_product([[\"first\", \"second\", \"overall\"], [\"win\", \"draw\"]]))\n",
    "latex_wins.index = latex_wins.index.rename(\"Model\")\n",
    "def f(df):\n",
    "    def inner(player, type):\n",
    "        return f'${df[player, type, \"value\"]:.2f} \\pm {df[player, type, \"sem\"] * 1.96:.2f}$'\n",
    "    return [inner(player, type) for player in [\"first\", \"second\", \"overall\"] for type in [\"win\", \"draw\"]]\n",
    "latex_wins[[(\"first\", \"win\"), (\"first\", \"draw\"), (\"second\", \"win\"), (\"second\", \"draw\"), (\"overall\", \"win\"), (\"overall\", \"draw\")]] = wins.apply(func=f, axis=\"columns\", result_type=\"expand\")\n",
    "# latex_wins = latex_wins.rename(columns={\"first\": \"First player win ratio\", \"second\": \"Second player win ratio\", \"overall\": \"Overall win ratio\", \"value\": \"Value\", \"sem\": \"SEM\"})\n",
    "with open(f\"{game}_complex_rollouts.txt\", \"w\", encoding=\"utf-8\") as f:\n",
    "   latex_wins.to_latex(f, escape=False)\n",
    "with open(f\"{game}_complex_rollouts_overall_total.txt\", \"w\", encoding=\"utf-8\") as f:\n",
    "    latex_wins.loc[\"Total\", \"overall\"].to_latex(f, escape=False, header=False)\n",
    "latex_wins"
   ],
   "metadata": {
    "collapsed": false,
    "pycharm": {
     "name": "#%%\n"
    }
   }
  },
  {
   "cell_type": "code",
   "execution_count": null,
   "outputs": [],
   "source": [
    "complex_simulations_with_expansion, complex_simulations_without_expansion = split_simulations_with_and_without_expansion(complex_simulations)\n",
    "simple_simulations_with_expansion, simple_simulations_without_expansion = split_simulations_with_and_without_expansion(simple_simulations)\n",
    "average_complex_simulations = mean(complex_simulations_with_expansion), mean(complex_simulations_without_expansion)\n",
    "average_simple_simulations = mean(simple_simulations_with_expansion), mean(simple_simulations_without_expansion)\n",
    "print(average_complex_simulations)\n",
    "print(average_simple_simulations)"
   ],
   "metadata": {
    "collapsed": false,
    "pycharm": {
     "name": "#%%\n"
    }
   }
  },
  {
   "cell_type": "code",
   "execution_count": 234,
   "outputs": [
    {
     "data": {
      "text/plain": "                 first                            second                   \\\n                   win             draw              win             draw   \nModel                                                                       \n0      $0.45 \\pm 0.09$  $0.00 \\pm 0.00$  $0.02 \\pm 0.02$  $0.00 \\pm 0.00$   \n1      $0.50 \\pm 0.09$  $0.00 \\pm 0.00$  $0.03 \\pm 0.03$  $0.00 \\pm 0.00$   \n2      $0.17 \\pm 0.07$  $0.00 \\pm 0.00$  $0.00 \\pm 0.00$  $0.00 \\pm 0.00$   \n3      $0.62 \\pm 0.09$  $0.00 \\pm 0.00$  $0.00 \\pm 0.00$  $0.00 \\pm 0.00$   \n4      $1.00 \\pm 0.00$  $0.00 \\pm 0.00$  $0.00 \\pm 0.00$  $0.00 \\pm 0.00$   \n5      $0.84 \\pm 0.07$  $0.00 \\pm 0.00$  $0.00 \\pm 0.00$  $0.00 \\pm 0.00$   \n6      $0.23 \\pm 0.08$  $0.00 \\pm 0.00$  $0.17 \\pm 0.07$  $0.00 \\pm 0.00$   \n7      $0.63 \\pm 0.09$  $0.00 \\pm 0.00$  $0.32 \\pm 0.08$  $0.00 \\pm 0.00$   \n8      $0.97 \\pm 0.03$  $0.00 \\pm 0.00$  $0.00 \\pm 0.00$  $0.00 \\pm 0.00$   \n9      $0.98 \\pm 0.02$  $0.00 \\pm 0.00$  $0.00 \\pm 0.00$  $0.00 \\pm 0.00$   \n10     $0.01 \\pm 0.02$  $0.00 \\pm 0.00$  $0.50 \\pm 0.09$  $0.00 \\pm 0.00$   \n11     $0.97 \\pm 0.03$  $0.00 \\pm 0.00$  $0.16 \\pm 0.07$  $0.00 \\pm 0.00$   \n12     $0.00 \\pm 0.00$  $0.00 \\pm 0.00$  $0.98 \\pm 0.02$  $0.00 \\pm 0.00$   \n13     $0.67 \\pm 0.08$  $0.00 \\pm 0.00$  $0.00 \\pm 0.00$  $0.00 \\pm 0.00$   \n14     $0.22 \\pm 0.07$  $0.00 \\pm 0.00$  $0.88 \\pm 0.06$  $0.00 \\pm 0.00$   \n15     $1.00 \\pm 0.00$  $0.00 \\pm 0.00$  $0.00 \\pm 0.00$  $0.00 \\pm 0.00$   \n16     $0.00 \\pm 0.00$  $0.00 \\pm 0.00$  $0.31 \\pm 0.08$  $0.00 \\pm 0.00$   \n17     $0.67 \\pm 0.08$  $0.00 \\pm 0.00$  $0.00 \\pm 0.00$  $0.00 \\pm 0.00$   \n18     $0.93 \\pm 0.05$  $0.00 \\pm 0.00$  $0.00 \\pm 0.00$  $0.00 \\pm 0.00$   \n19     $0.93 \\pm 0.04$  $0.00 \\pm 0.00$  $0.97 \\pm 0.03$  $0.00 \\pm 0.00$   \nTotal  $0.59 \\pm 0.02$  $0.00 \\pm 0.00$  $0.22 \\pm 0.02$  $0.00 \\pm 0.00$   \n\n               overall                   \n                   win             draw  \nModel                                    \n0      $0.23 \\pm 0.05$  $0.00 \\pm 0.00$  \n1      $0.27 \\pm 0.06$  $0.00 \\pm 0.00$  \n2      $0.08 \\pm 0.03$  $0.00 \\pm 0.00$  \n3      $0.31 \\pm 0.06$  $0.00 \\pm 0.00$  \n4      $0.50 \\pm 0.06$  $0.00 \\pm 0.00$  \n5      $0.42 \\pm 0.06$  $0.00 \\pm 0.00$  \n6      $0.20 \\pm 0.05$  $0.00 \\pm 0.00$  \n7      $0.47 \\pm 0.06$  $0.00 \\pm 0.00$  \n8      $0.48 \\pm 0.06$  $0.00 \\pm 0.00$  \n9      $0.49 \\pm 0.06$  $0.00 \\pm 0.00$  \n10     $0.25 \\pm 0.06$  $0.00 \\pm 0.00$  \n11     $0.57 \\pm 0.06$  $0.00 \\pm 0.00$  \n12     $0.49 \\pm 0.06$  $0.00 \\pm 0.00$  \n13     $0.34 \\pm 0.06$  $0.00 \\pm 0.00$  \n14     $0.55 \\pm 0.06$  $0.00 \\pm 0.00$  \n15     $0.50 \\pm 0.06$  $0.00 \\pm 0.00$  \n16     $0.15 \\pm 0.05$  $0.00 \\pm 0.00$  \n17     $0.33 \\pm 0.06$  $0.00 \\pm 0.00$  \n18     $0.46 \\pm 0.06$  $0.00 \\pm 0.00$  \n19     $0.95 \\pm 0.03$  $0.00 \\pm 0.00$  \nTotal  $0.40 \\pm 0.01$  $0.00 \\pm 0.00$  ",
      "text/html": "<div>\n<style scoped>\n    .dataframe tbody tr th:only-of-type {\n        vertical-align: middle;\n    }\n\n    .dataframe tbody tr th {\n        vertical-align: top;\n    }\n\n    .dataframe thead tr th {\n        text-align: left;\n    }\n\n    .dataframe thead tr:last-of-type th {\n        text-align: right;\n    }\n</style>\n<table border=\"1\" class=\"dataframe\">\n  <thead>\n    <tr>\n      <th></th>\n      <th colspan=\"2\" halign=\"left\">first</th>\n      <th colspan=\"2\" halign=\"left\">second</th>\n      <th colspan=\"2\" halign=\"left\">overall</th>\n    </tr>\n    <tr>\n      <th></th>\n      <th>win</th>\n      <th>draw</th>\n      <th>win</th>\n      <th>draw</th>\n      <th>win</th>\n      <th>draw</th>\n    </tr>\n    <tr>\n      <th>Model</th>\n      <th></th>\n      <th></th>\n      <th></th>\n      <th></th>\n      <th></th>\n      <th></th>\n    </tr>\n  </thead>\n  <tbody>\n    <tr>\n      <th>0</th>\n      <td>$0.45 \\pm 0.09$</td>\n      <td>$0.00 \\pm 0.00$</td>\n      <td>$0.02 \\pm 0.02$</td>\n      <td>$0.00 \\pm 0.00$</td>\n      <td>$0.23 \\pm 0.05$</td>\n      <td>$0.00 \\pm 0.00$</td>\n    </tr>\n    <tr>\n      <th>1</th>\n      <td>$0.50 \\pm 0.09$</td>\n      <td>$0.00 \\pm 0.00$</td>\n      <td>$0.03 \\pm 0.03$</td>\n      <td>$0.00 \\pm 0.00$</td>\n      <td>$0.27 \\pm 0.06$</td>\n      <td>$0.00 \\pm 0.00$</td>\n    </tr>\n    <tr>\n      <th>2</th>\n      <td>$0.17 \\pm 0.07$</td>\n      <td>$0.00 \\pm 0.00$</td>\n      <td>$0.00 \\pm 0.00$</td>\n      <td>$0.00 \\pm 0.00$</td>\n      <td>$0.08 \\pm 0.03$</td>\n      <td>$0.00 \\pm 0.00$</td>\n    </tr>\n    <tr>\n      <th>3</th>\n      <td>$0.62 \\pm 0.09$</td>\n      <td>$0.00 \\pm 0.00$</td>\n      <td>$0.00 \\pm 0.00$</td>\n      <td>$0.00 \\pm 0.00$</td>\n      <td>$0.31 \\pm 0.06$</td>\n      <td>$0.00 \\pm 0.00$</td>\n    </tr>\n    <tr>\n      <th>4</th>\n      <td>$1.00 \\pm 0.00$</td>\n      <td>$0.00 \\pm 0.00$</td>\n      <td>$0.00 \\pm 0.00$</td>\n      <td>$0.00 \\pm 0.00$</td>\n      <td>$0.50 \\pm 0.06$</td>\n      <td>$0.00 \\pm 0.00$</td>\n    </tr>\n    <tr>\n      <th>5</th>\n      <td>$0.84 \\pm 0.07$</td>\n      <td>$0.00 \\pm 0.00$</td>\n      <td>$0.00 \\pm 0.00$</td>\n      <td>$0.00 \\pm 0.00$</td>\n      <td>$0.42 \\pm 0.06$</td>\n      <td>$0.00 \\pm 0.00$</td>\n    </tr>\n    <tr>\n      <th>6</th>\n      <td>$0.23 \\pm 0.08$</td>\n      <td>$0.00 \\pm 0.00$</td>\n      <td>$0.17 \\pm 0.07$</td>\n      <td>$0.00 \\pm 0.00$</td>\n      <td>$0.20 \\pm 0.05$</td>\n      <td>$0.00 \\pm 0.00$</td>\n    </tr>\n    <tr>\n      <th>7</th>\n      <td>$0.63 \\pm 0.09$</td>\n      <td>$0.00 \\pm 0.00$</td>\n      <td>$0.32 \\pm 0.08$</td>\n      <td>$0.00 \\pm 0.00$</td>\n      <td>$0.47 \\pm 0.06$</td>\n      <td>$0.00 \\pm 0.00$</td>\n    </tr>\n    <tr>\n      <th>8</th>\n      <td>$0.97 \\pm 0.03$</td>\n      <td>$0.00 \\pm 0.00$</td>\n      <td>$0.00 \\pm 0.00$</td>\n      <td>$0.00 \\pm 0.00$</td>\n      <td>$0.48 \\pm 0.06$</td>\n      <td>$0.00 \\pm 0.00$</td>\n    </tr>\n    <tr>\n      <th>9</th>\n      <td>$0.98 \\pm 0.02$</td>\n      <td>$0.00 \\pm 0.00$</td>\n      <td>$0.00 \\pm 0.00$</td>\n      <td>$0.00 \\pm 0.00$</td>\n      <td>$0.49 \\pm 0.06$</td>\n      <td>$0.00 \\pm 0.00$</td>\n    </tr>\n    <tr>\n      <th>10</th>\n      <td>$0.01 \\pm 0.02$</td>\n      <td>$0.00 \\pm 0.00$</td>\n      <td>$0.50 \\pm 0.09$</td>\n      <td>$0.00 \\pm 0.00$</td>\n      <td>$0.25 \\pm 0.06$</td>\n      <td>$0.00 \\pm 0.00$</td>\n    </tr>\n    <tr>\n      <th>11</th>\n      <td>$0.97 \\pm 0.03$</td>\n      <td>$0.00 \\pm 0.00$</td>\n      <td>$0.16 \\pm 0.07$</td>\n      <td>$0.00 \\pm 0.00$</td>\n      <td>$0.57 \\pm 0.06$</td>\n      <td>$0.00 \\pm 0.00$</td>\n    </tr>\n    <tr>\n      <th>12</th>\n      <td>$0.00 \\pm 0.00$</td>\n      <td>$0.00 \\pm 0.00$</td>\n      <td>$0.98 \\pm 0.02$</td>\n      <td>$0.00 \\pm 0.00$</td>\n      <td>$0.49 \\pm 0.06$</td>\n      <td>$0.00 \\pm 0.00$</td>\n    </tr>\n    <tr>\n      <th>13</th>\n      <td>$0.67 \\pm 0.08$</td>\n      <td>$0.00 \\pm 0.00$</td>\n      <td>$0.00 \\pm 0.00$</td>\n      <td>$0.00 \\pm 0.00$</td>\n      <td>$0.34 \\pm 0.06$</td>\n      <td>$0.00 \\pm 0.00$</td>\n    </tr>\n    <tr>\n      <th>14</th>\n      <td>$0.22 \\pm 0.07$</td>\n      <td>$0.00 \\pm 0.00$</td>\n      <td>$0.88 \\pm 0.06$</td>\n      <td>$0.00 \\pm 0.00$</td>\n      <td>$0.55 \\pm 0.06$</td>\n      <td>$0.00 \\pm 0.00$</td>\n    </tr>\n    <tr>\n      <th>15</th>\n      <td>$1.00 \\pm 0.00$</td>\n      <td>$0.00 \\pm 0.00$</td>\n      <td>$0.00 \\pm 0.00$</td>\n      <td>$0.00 \\pm 0.00$</td>\n      <td>$0.50 \\pm 0.06$</td>\n      <td>$0.00 \\pm 0.00$</td>\n    </tr>\n    <tr>\n      <th>16</th>\n      <td>$0.00 \\pm 0.00$</td>\n      <td>$0.00 \\pm 0.00$</td>\n      <td>$0.31 \\pm 0.08$</td>\n      <td>$0.00 \\pm 0.00$</td>\n      <td>$0.15 \\pm 0.05$</td>\n      <td>$0.00 \\pm 0.00$</td>\n    </tr>\n    <tr>\n      <th>17</th>\n      <td>$0.67 \\pm 0.08$</td>\n      <td>$0.00 \\pm 0.00$</td>\n      <td>$0.00 \\pm 0.00$</td>\n      <td>$0.00 \\pm 0.00$</td>\n      <td>$0.33 \\pm 0.06$</td>\n      <td>$0.00 \\pm 0.00$</td>\n    </tr>\n    <tr>\n      <th>18</th>\n      <td>$0.93 \\pm 0.05$</td>\n      <td>$0.00 \\pm 0.00$</td>\n      <td>$0.00 \\pm 0.00$</td>\n      <td>$0.00 \\pm 0.00$</td>\n      <td>$0.46 \\pm 0.06$</td>\n      <td>$0.00 \\pm 0.00$</td>\n    </tr>\n    <tr>\n      <th>19</th>\n      <td>$0.93 \\pm 0.04$</td>\n      <td>$0.00 \\pm 0.00$</td>\n      <td>$0.97 \\pm 0.03$</td>\n      <td>$0.00 \\pm 0.00$</td>\n      <td>$0.95 \\pm 0.03$</td>\n      <td>$0.00 \\pm 0.00$</td>\n    </tr>\n    <tr>\n      <th>Total</th>\n      <td>$0.59 \\pm 0.02$</td>\n      <td>$0.00 \\pm 0.00$</td>\n      <td>$0.22 \\pm 0.02$</td>\n      <td>$0.00 \\pm 0.00$</td>\n      <td>$0.40 \\pm 0.01$</td>\n      <td>$0.00 \\pm 0.00$</td>\n    </tr>\n  </tbody>\n</table>\n</div>"
     },
     "metadata": {},
     "output_type": "execute_result",
     "execution_count": 234
    }
   ],
   "source": [
    "complex_simulations_with_expansion, complex_simulations_without_expansion = split_simulations_with_and_without_expansion(complex_simulations)\n",
    "simple_simulations_with_expansion, simple_simulations_without_expansion = split_simulations_with_and_without_expansion(simple_simulations)\n",
    "average_complex_simulations = mean(complex_simulations_with_expansion), mean(complex_simulations_without_expansion)\n",
    "average_simple_simulations = mean(simple_simulations_with_expansion), mean(simple_simulations_without_expansion)\n",
    "print(average_complex_simulations)\n",
    "print(average_simple_simulations)"
   ],
   "metadata": {
    "collapsed": false,
    "pycharm": {
     "name": "#%%\n",
     "is_executing": false
    }
   }
  },
  {
   "cell_type": "code",
   "execution_count": 235,
   "outputs": [
    {
     "name": "stdout",
     "text": [
      "(83.94282328011924, 2914.9080395783576)\n",
      "(156.67311356876994, 2989.506348951933)\n"
     ],
     "output_type": "stream"
    }
   ],
   "source": [
    "complex_simulations_with_expansion, complex_simulations_without_expansion = split_simulations_with_and_without_expansion(complex_simulations)\n",
    "simple_simulations_with_expansion, simple_simulations_without_expansion = split_simulations_with_and_without_expansion(simple_simulations)\n",
    "average_complex_simulations = mean(complex_simulations_with_expansion), mean(complex_simulations_without_expansion)\n",
    "average_simple_simulations = mean(simple_simulations_with_expansion), mean(simple_simulations_without_expansion)\n",
    "print(average_complex_simulations)\n",
    "print(average_simple_simulations)"
   ],
   "metadata": {
    "collapsed": false,
    "pycharm": {
     "name": "#%%\n",
     "is_executing": false
    }
   }
  }
 ],
 "metadata": {
  "kernelspec": {
   "display_name": "Python 3",
   "language": "python",
   "name": "python3"
  },
  "language_info": {
   "codemirror_mode": {
    "name": "ipython",
    "version": 2
   },
   "file_extension": ".py",
   "mimetype": "text/x-python",
   "name": "python",
   "nbconvert_exporter": "python",
   "pygments_lexer": "ipython2",
   "version": "2.7.6"
  },
  "pycharm": {
   "stem_cell": {
    "cell_type": "raw",
    "source": [],
    "metadata": {
     "collapsed": false
    }
   }
  }
 },
 "nbformat": 4,
 "nbformat_minor": 0
}